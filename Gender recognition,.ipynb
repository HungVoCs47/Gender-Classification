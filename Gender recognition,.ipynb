{
 "cells": [
  {
   "cell_type": "code",
   "execution_count": 15,
   "metadata": {},
   "outputs": [
    {
     "name": "stdout",
     "output_type": "stream",
     "text": [
      "Requirement already satisfied: matplotlib in c:\\users\\hungvo\\anaconda3\\lib\\site-packages (3.3.4)\n",
      "Requirement already satisfied: python-dateutil>=2.1 in c:\\users\\hungvo\\anaconda3\\lib\\site-packages (from matplotlib) (2.8.1)\n",
      "Requirement already satisfied: cycler>=0.10 in c:\\users\\hungvo\\anaconda3\\lib\\site-packages (from matplotlib) (0.10.0)\n",
      "Requirement already satisfied: pyparsing!=2.0.4,!=2.1.2,!=2.1.6,>=2.0.3 in c:\\users\\hungvo\\anaconda3\\lib\\site-packages (from matplotlib) (2.4.7)\n",
      "Requirement already satisfied: numpy>=1.15 in c:\\users\\hungvo\\anaconda3\\lib\\site-packages (from matplotlib) (1.20.1)\n",
      "Requirement already satisfied: pillow>=6.2.0 in c:\\users\\hungvo\\anaconda3\\lib\\site-packages (from matplotlib) (8.2.0)\n",
      "Requirement already satisfied: kiwisolver>=1.0.1 in c:\\users\\hungvo\\anaconda3\\lib\\site-packages (from matplotlib) (1.3.1)\n",
      "Requirement already satisfied: six in c:\\users\\hungvo\\anaconda3\\lib\\site-packages (from cycler>=0.10->matplotlib) (1.15.0)\n",
      "Requirement already satisfied: tensorflow_datasets in c:\\users\\hungvo\\anaconda3\\lib\\site-packages (4.7.0)\n",
      "Requirement already satisfied: etils[epath] in c:\\users\\hungvo\\anaconda3\\lib\\site-packages (from tensorflow_datasets) (0.8.0)\n",
      "Requirement already satisfied: six in c:\\users\\hungvo\\anaconda3\\lib\\site-packages (from tensorflow_datasets) (1.15.0)\n",
      "Requirement already satisfied: dill in c:\\users\\hungvo\\anaconda3\\lib\\site-packages (from tensorflow_datasets) (0.3.5.1)\n",
      "Requirement already satisfied: requests>=2.19.0 in c:\\users\\hungvo\\anaconda3\\lib\\site-packages (from tensorflow_datasets) (2.25.1)\n",
      "Requirement already satisfied: promise in c:\\users\\hungvo\\anaconda3\\lib\\site-packages (from tensorflow_datasets) (2.3)\n",
      "Requirement already satisfied: toml in c:\\users\\hungvo\\anaconda3\\lib\\site-packages (from tensorflow_datasets) (0.10.2)\n",
      "Requirement already satisfied: absl-py in c:\\users\\hungvo\\anaconda3\\lib\\site-packages (from tensorflow_datasets) (1.2.0)\n",
      "Requirement already satisfied: importlib-resources in c:\\users\\hungvo\\anaconda3\\lib\\site-packages (from tensorflow_datasets) (5.10.0)\n",
      "Requirement already satisfied: protobuf>=3.12.2 in c:\\users\\hungvo\\anaconda3\\lib\\site-packages (from tensorflow_datasets) (3.19.6)\n",
      "Requirement already satisfied: termcolor in c:\\users\\hungvo\\anaconda3\\lib\\site-packages (from tensorflow_datasets) (2.0.1)\n",
      "Requirement already satisfied: numpy in c:\\users\\hungvo\\anaconda3\\lib\\site-packages (from tensorflow_datasets) (1.20.1)\n",
      "Requirement already satisfied: tqdm in c:\\users\\hungvo\\anaconda3\\lib\\site-packages (from tensorflow_datasets) (4.59.0)\n",
      "Requirement already satisfied: tensorflow-metadata in c:\\users\\hungvo\\anaconda3\\lib\\site-packages (from tensorflow_datasets) (1.10.0)\n",
      "Requirement already satisfied: certifi>=2017.4.17 in c:\\users\\hungvo\\anaconda3\\lib\\site-packages (from requests>=2.19.0->tensorflow_datasets) (2020.12.5)\n",
      "Requirement already satisfied: chardet<5,>=3.0.2 in c:\\users\\hungvo\\anaconda3\\lib\\site-packages (from requests>=2.19.0->tensorflow_datasets) (4.0.0)\n",
      "Requirement already satisfied: urllib3<1.27,>=1.21.1 in c:\\users\\hungvo\\anaconda3\\lib\\site-packages (from requests>=2.19.0->tensorflow_datasets) (1.26.4)\n",
      "Requirement already satisfied: idna<3,>=2.5 in c:\\users\\hungvo\\anaconda3\\lib\\site-packages (from requests>=2.19.0->tensorflow_datasets) (2.10)\n",
      "Requirement already satisfied: zipp in c:\\users\\hungvo\\anaconda3\\lib\\site-packages (from etils[epath]->tensorflow_datasets) (3.4.1)\n",
      "Requirement already satisfied: typing_extensions in c:\\users\\hungvo\\anaconda3\\lib\\site-packages (from etils[epath]->tensorflow_datasets) (3.7.4.3)\n",
      "Requirement already satisfied: googleapis-common-protos<2,>=1.52.0 in c:\\users\\hungvo\\anaconda3\\lib\\site-packages (from tensorflow-metadata->tensorflow_datasets) (1.56.4)\n"
     ]
    }
   ],
   "source": [
    "!pip install matplotlib\n",
    "!pip install tensorflow_datasets\n",
    "import tensorflow as tf\n",
    "import tensorflow_datasets as tfds\n",
    "import numpy as np\n",
    "import matplotlib.pyplot as plt"
   ]
  },
  {
   "cell_type": "code",
   "execution_count": 16,
   "metadata": {},
   "outputs": [
    {
     "name": "stdout",
     "output_type": "stream",
     "text": [
      "[PhysicalDevice(name='/physical_device:GPU:0', device_type='GPU')]\n"
     ]
    }
   ],
   "source": [
    "dataset = tfds.builder('celeb_a')\n",
    "dataset.download_and_prepare()\n",
    "\n",
    "physical_devices = tf.config.list_physical_devices(\"GPU\")\n",
    "print(physical_devices)\n",
    "tf.config.experimental.set_memory_growth(physical_devices[0], True)\n"
   ]
  },
  {
   "cell_type": "code",
   "execution_count": 17,
   "metadata": {},
   "outputs": [],
   "source": [
    "data = dataset.as_dataset(shuffle_files=False)\n",
    "data_train = data['train']\n",
    "data_validation = data['validation']\n",
    "data_test = data['test']\n",
    "\n",
    "\n",
    "#data_train = data_train1.concatenate(data_test)\n"
   ]
  },
  {
   "cell_type": "code",
   "execution_count": 18,
   "metadata": {},
   "outputs": [],
   "source": [
    "#data_test2 = data_validation\n",
    "\n",
    "#nt = 0\n",
    "#for i in data_test2:\n",
    "#    cnt += 1\n",
    "#print(cnt)"
   ]
  },
  {
   "cell_type": "code",
   "execution_count": 19,
   "metadata": {},
   "outputs": [],
   "source": [
    "def preprocess(example, size = (64,64), mode = 'train'):\n",
    "    image = example['image']\n",
    "    #print(image.shape)\n",
    "    label = example['attributes']['Male']\n",
    "    #print(label)\n",
    "    if mode == 'train':\n",
    "        image_crop = tf.image.random_crop(image, size = (178, 178, 3))\n",
    "        image_resized = tf.image.resize(image_crop, size = size)\n",
    "        image_flip = tf.image.random_flip_left_right(image_resized)\n",
    "        return (image_flip/255, tf.cast(label, tf.int32))\n",
    "    else:\n",
    "        image_cropped = tf.image.crop_to_bounding_box(\n",
    "            image, 0, 0, 178, 178)\n",
    "        image_resized = tf.image.resize(\n",
    "            image_cropped, size=size)\n",
    "        print(image_resized/255.0, tf.cast(label, tf.int32))\n",
    "        return (image_resized/255.0, tf.cast(label, tf.int32))\n",
    "    \n",
    "    "
   ]
  },
  {
   "cell_type": "code",
   "execution_count": 20,
   "metadata": {},
   "outputs": [
    {
     "name": "stdout",
     "output_type": "stream",
     "text": [
      "WARNING:tensorflow:AutoGraph could not transform <function preprocess at 0x00000228D2E8C4C0> and will run it as-is.\n",
      "Please report this to the TensorFlow team. When filing the bug, set the verbosity to 10 (on Linux, `export AUTOGRAPH_VERBOSITY=10`) and attach the full output.\n",
      "Cause: module 'gast' has no attribute 'Index'\n",
      "To silence this warning, decorate the function with @tf.autograph.experimental.do_not_convert\n"
     ]
    },
    {
     "name": "stderr",
     "output_type": "stream",
     "text": [
      "WARNING:tensorflow:AutoGraph could not transform <function preprocess at 0x00000228D2E8C4C0> and will run it as-is.\n",
      "Please report this to the TensorFlow team. When filing the bug, set the verbosity to 10 (on Linux, `export AUTOGRAPH_VERBOSITY=10`) and attach the full output.\n",
      "Cause: module 'gast' has no attribute 'Index'\n",
      "To silence this warning, decorate the function with @tf.autograph.experimental.do_not_convert\n"
     ]
    },
    {
     "name": "stdout",
     "output_type": "stream",
     "text": [
      "WARNING: AutoGraph could not transform <function preprocess at 0x00000228D2E8C4C0> and will run it as-is.\n",
      "Please report this to the TensorFlow team. When filing the bug, set the verbosity to 10 (on Linux, `export AUTOGRAPH_VERBOSITY=10`) and attach the full output.\n",
      "Cause: module 'gast' has no attribute 'Index'\n",
      "To silence this warning, decorate the function with @tf.autograph.experimental.do_not_convert\n",
      "Tensor(\"truediv:0\", shape=(64, 64, 3), dtype=float32) Tensor(\"Cast:0\", shape=(), dtype=int32)\n"
     ]
    }
   ],
   "source": [
    "data_train  = data_train.take(162850)\n",
    "data_validation = data_validation.take(1000)\n",
    "\n",
    "BATCH_SIZE = 128\n",
    "BUFFER_SIZE = 1000\n",
    "IMAGE_SIZE = (64, 64)\n",
    "steps_per_epoch = np.ceil(162850/BATCH_SIZE)\n",
    "\n",
    "\n",
    "ds_train = data_train.map(\n",
    "    lambda x: preprocess(x, mode='train'))\n",
    "ds_train = ds_train.shuffle(buffer_size=BUFFER_SIZE).repeat()\n",
    "ds_train = ds_train.batch(BATCH_SIZE)\n",
    "\n",
    "ds_valid = data_validation.map(\n",
    "    lambda x: preprocess(x, mode='validation'))\n",
    "ds_valid = ds_valid.batch(BATCH_SIZE)\n"
   ]
  },
  {
   "cell_type": "code",
   "execution_count": 21,
   "metadata": {},
   "outputs": [],
   "source": [
    "model = tf.keras.Sequential([\n",
    "    tf.keras.layers.Conv2D(32,(3,3),padding = 'same',activation='relu'),\n",
    "    tf.keras.layers.MaxPooling2D(pool_size=(2, 2), strides = (2,2)),\n",
    "    tf.keras.layers.Dropout(rate=0.5),\n",
    "    tf.keras.layers.Conv2D(64,(3, 3),padding='same',activation='relu'),\n",
    "    tf.keras.layers.MaxPooling2D(pool_size=(2, 2), strides = (2,2)),\n",
    "    tf.keras.layers.Dropout(rate=0.5),\n",
    "    tf.keras.layers.Conv2D(128,(3,3),padding='same',activation='relu'),\n",
    "    tf.keras.layers.MaxPooling2D(pool_size=(2, 2), strides = (2,2)),\n",
    "    tf.keras.layers.Conv2D(256,(3, 3),padding='same',activation='relu'),\n",
    "    tf.keras.layers.GlobalAveragePooling2D(),\n",
    "    tf.keras.layers.Dense(1, activation=None),\n",
    "])"
   ]
  },
  {
   "cell_type": "code",
   "execution_count": 22,
   "metadata": {},
   "outputs": [
    {
     "name": "stdout",
     "output_type": "stream",
     "text": [
      "Model: \"sequential_1\"\n",
      "_________________________________________________________________\n",
      "Layer (type)                 Output Shape              Param #   \n",
      "=================================================================\n",
      "conv2d_4 (Conv2D)            (None, 64, 64, 32)        896       \n",
      "_________________________________________________________________\n",
      "max_pooling2d_3 (MaxPooling2 (None, 32, 32, 32)        0         \n",
      "_________________________________________________________________\n",
      "dropout_2 (Dropout)          (None, 32, 32, 32)        0         \n",
      "_________________________________________________________________\n",
      "conv2d_5 (Conv2D)            (None, 32, 32, 64)        18496     \n",
      "_________________________________________________________________\n",
      "max_pooling2d_4 (MaxPooling2 (None, 16, 16, 64)        0         \n",
      "_________________________________________________________________\n",
      "dropout_3 (Dropout)          (None, 16, 16, 64)        0         \n",
      "_________________________________________________________________\n",
      "conv2d_6 (Conv2D)            (None, 16, 16, 128)       73856     \n",
      "_________________________________________________________________\n",
      "max_pooling2d_5 (MaxPooling2 (None, 8, 8, 128)         0         \n",
      "_________________________________________________________________\n",
      "conv2d_7 (Conv2D)            (None, 8, 8, 256)         295168    \n",
      "_________________________________________________________________\n",
      "global_average_pooling2d_1 ( (None, 256)               0         \n",
      "_________________________________________________________________\n",
      "dense_1 (Dense)              (None, 1)                 257       \n",
      "=================================================================\n",
      "Total params: 388,673\n",
      "Trainable params: 388,673\n",
      "Non-trainable params: 0\n",
      "_________________________________________________________________\n"
     ]
    }
   ],
   "source": [
    "tf.random.set_seed(1)\n",
    "model.compute_output_shape(input_shape=(None, 64, 64, 3))\n",
    "model.build(input_shape=(None, 64, 64, 3))\n",
    "model.summary()"
   ]
  },
  {
   "cell_type": "code",
   "execution_count": 23,
   "metadata": {},
   "outputs": [],
   "source": [
    "model.compile(optimizer=tf.keras.optimizers.Adam(),\n",
    "              loss=tf.keras.losses.BinaryCrossentropy(from_logits=True),\n",
    "              metrics=['accuracy'])"
   ]
  },
  {
   "cell_type": "code",
   "execution_count": 24,
   "metadata": {},
   "outputs": [
    {
     "name": "stdout",
     "output_type": "stream",
     "text": [
      "Epoch 1/20\n",
      "1273/1273 [==============================] - 144s 113ms/step - loss: 0.4652 - accuracy: 0.7501 - val_loss: 0.2817 - val_accuracy: 0.8590\n",
      "Epoch 2/20\n",
      "1273/1273 [==============================] - 141s 111ms/step - loss: 0.2438 - accuracy: 0.8912 - val_loss: 0.1858 - val_accuracy: 0.9130\n",
      "Epoch 3/20\n",
      "1273/1273 [==============================] - 120s 94ms/step - loss: 0.2013 - accuracy: 0.9116 - val_loss: 0.2097 - val_accuracy: 0.8820\n",
      "Epoch 4/20\n",
      "1273/1273 [==============================] - 111s 87ms/step - loss: 0.1769 - accuracy: 0.9232 - val_loss: 0.1419 - val_accuracy: 0.9310\n",
      "Epoch 5/20\n",
      "1273/1273 [==============================] - 115s 91ms/step - loss: 0.1619 - accuracy: 0.9312 - val_loss: 0.1683 - val_accuracy: 0.9050\n",
      "Epoch 6/20\n",
      "1273/1273 [==============================] - 115s 90ms/step - loss: 0.1494 - accuracy: 0.9374 - val_loss: 0.1167 - val_accuracy: 0.9450\n",
      "Epoch 7/20\n",
      "1273/1273 [==============================] - 112s 88ms/step - loss: 0.1397 - accuracy: 0.9418 - val_loss: 0.1024 - val_accuracy: 0.9540\n",
      "Epoch 8/20\n",
      "1273/1273 [==============================] - 111s 87ms/step - loss: 0.1326 - accuracy: 0.9445 - val_loss: 0.1054 - val_accuracy: 0.9520\n",
      "Epoch 9/20\n",
      "1273/1273 [==============================] - 118s 93ms/step - loss: 0.1276 - accuracy: 0.9478 - val_loss: 0.1003 - val_accuracy: 0.9610\n",
      "Epoch 10/20\n",
      "1273/1273 [==============================] - 118s 93ms/step - loss: 0.1226 - accuracy: 0.9493 - val_loss: 0.1050 - val_accuracy: 0.9510\n",
      "Epoch 11/20\n",
      "1273/1273 [==============================] - 116s 91ms/step - loss: 0.1203 - accuracy: 0.9502 - val_loss: 0.0921 - val_accuracy: 0.9660\n",
      "Epoch 12/20\n",
      "1273/1273 [==============================] - 123s 96ms/step - loss: 0.1159 - accuracy: 0.9527 - val_loss: 0.0843 - val_accuracy: 0.9630\n",
      "Epoch 13/20\n",
      "1273/1273 [==============================] - 115s 90ms/step - loss: 0.1116 - accuracy: 0.9548 - val_loss: 0.0903 - val_accuracy: 0.9610\n",
      "Epoch 14/20\n",
      "1273/1273 [==============================] - 119s 93ms/step - loss: 0.1096 - accuracy: 0.9557 - val_loss: 0.0829 - val_accuracy: 0.9650\n",
      "Epoch 15/20\n",
      "1273/1273 [==============================] - 116s 91ms/step - loss: 0.1069 - accuracy: 0.9568 - val_loss: 0.0770 - val_accuracy: 0.9720\n",
      "Epoch 16/20\n",
      "1273/1273 [==============================] - 118s 92ms/step - loss: 0.1046 - accuracy: 0.9584 - val_loss: 0.0795 - val_accuracy: 0.9640\n",
      "Epoch 17/20\n",
      "1273/1273 [==============================] - 119s 93ms/step - loss: 0.1048 - accuracy: 0.9579 - val_loss: 0.0729 - val_accuracy: 0.9700\n",
      "Epoch 18/20\n",
      "1273/1273 [==============================] - 144s 113ms/step - loss: 0.1028 - accuracy: 0.9587 - val_loss: 0.0718 - val_accuracy: 0.9700\n",
      "Epoch 19/20\n",
      "1273/1273 [==============================] - 161s 127ms/step - loss: 0.1015 - accuracy: 0.9596 - val_loss: 0.0678 - val_accuracy: 0.9760\n",
      "Epoch 20/20\n",
      "1273/1273 [==============================] - 124s 97ms/step - loss: 0.0996 - accuracy: 0.9597 - val_loss: 0.0647 - val_accuracy: 0.9760\n"
     ]
    }
   ],
   "source": [
    "history = model.fit(ds_train, validation_data=ds_valid, \n",
    "                    epochs=20, steps_per_epoch=steps_per_epoch)"
   ]
  },
  {
   "cell_type": "code",
   "execution_count": 25,
   "metadata": {},
   "outputs": [
    {
     "data": {
      "image/png": "[encoded data removed]",
      "text/plain": [
       "<Figure size 864x288 with 2 Axes>"
      ]
     },
     "metadata": {
      "needs_background": "light"
     },
     "output_type": "display_data"
    }
   ],
   "source": [
    "hist = history.history\n",
    "x_arr = np.arange(len(hist['loss'])) + 1\n",
    "\n",
    "fig = plt.figure(figsize=(12, 4))\n",
    "ax = fig.add_subplot(1, 2, 1)\n",
    "ax.plot(x_arr, hist['loss'], '-o', label='Train loss')\n",
    "ax.plot(x_arr, hist['val_loss'], '--<', label='Validation loss')\n",
    "ax.legend(fontsize=15)\n",
    "ax.set_xlabel('Epoch', size=15)\n",
    "ax.set_ylabel('Loss', size=15)\n",
    "\n",
    "ax = fig.add_subplot(1, 2, 2)\n",
    "ax.plot(x_arr, hist['accuracy'], '-o', label='Train acc.')\n",
    "ax.plot(x_arr, hist['val_accuracy'], '--<', label='Validation acc.')\n",
    "ax.legend(fontsize=15)\n",
    "ax.set_xlabel('Epoch', size=15)\n",
    "ax.set_ylabel('Accuracy', size=15)\n",
    "\n",
    "#plt.savefig('figures/15_18.png', dpi=300)\n",
    "plt.show()"
   ]
  },
  {
   "cell_type": "code",
   "execution_count": 26,
   "metadata": {},
   "outputs": [
    {
     "name": "stdout",
     "output_type": "stream",
     "text": [
      "Tensor(\"truediv:0\", shape=(64, 64, 3), dtype=float32) Tensor(\"Cast:0\", shape=(), dtype=int32)\n",
      "Test Acc: 96.98%\n"
     ]
    }
   ],
   "source": [
    "ds_test = data_test.map(\n",
    "    lambda x:preprocess(x, size=IMAGE_SIZE, mode='eval')).batch(32)\n",
    "results = model.evaluate(ds_test, verbose=0)\n",
    "print('Test Acc: {:.2f}%'.format(results[1]*100))\n",
    "\n",
    "\n",
    "\n"
   ]
  },
  {
   "cell_type": "code",
   "execution_count": 59,
   "metadata": {},
   "outputs": [
    {
     "name": "stdout",
     "output_type": "stream",
     "text": [
      "0.9961160520900324\n"
     ]
    },
    {
     "data": {
      "image/png": "[encoded data removed]",
      "text/plain": [
       "<Figure size 432x288 with 1 Axes>"
      ]
     },
     "metadata": {
      "needs_background": "light"
     },
     "output_type": "display_data"
    }
   ],
   "source": [
    "ds = ds_test.unbatch().take(3500)\n",
    "#print(ds)\n",
    "\n",
    "#print(ds.batch(10))\n",
    "pred_logits = model.predict(ds.batch(3500))\n",
    "#print(pred_logits)\n",
    "probas = tf.sigmoid(pred_logits)\n",
    "probas = probas.numpy().flatten()*100\n",
    "\n",
    "y_pred = []\n",
    "y = []\n",
    "score = []\n",
    "for j,example in enumerate(ds):\n",
    "    if example[1].numpy() == 1:\n",
    "        y.append(1)\n",
    "    else:\n",
    "        y.append(0)\n",
    "    score.append(probas[j])\n",
    "    if probas[j] >= 50:\n",
    "        y_pred.append(1)\n",
    "    else:\n",
    "        y_pred.append(0)\n",
    "        \n",
    "    \n",
    "import numpy as np\n",
    "from sklearn import metrics\n",
    "from sklearn.metrics import roc_curve, auc\n",
    "import matplotlib.pyplot as plt\n",
    "y = np.array(y)\n",
    "y_pred = np.array(y_pred)\n",
    "score = np.array(score)\n",
    "#print(y)\n",
    "fpr, tpr, thresholds = metrics.roc_curve(y, score, pos_label=1)\n",
    "roc_auc = auc(fpr, tpr)\n",
    "print(roc_auc)\n",
    "\n",
    "plt.plot(fpr, tpr, marker='.', label='Model')\n",
    "plt.plot([0, 0, 1],[0, 1, 1],linestyle=':',color='black',label='Perfect performance')\n",
    "plt.plot([0, 1],[0, 1],linestyle='--',color=(0.6, 0.6, 0.6),label='Random guessing')\n",
    "# axis labels\n",
    "plt.xlabel('False Positive Rate')\n",
    "plt.ylabel('True Positive Rate')\n",
    "plt.legend(loc=\"lower right\")\n",
    "\n",
    "plt.tight_layout()\n",
    "plt.show()\n"
   ]
  },
  {
   "cell_type": "code",
   "execution_count": 63,
   "metadata": {},
   "outputs": [
    {
     "name": "stdout",
     "output_type": "stream",
     "text": [
      "----------Iter 0 ----------\n",
      "Precision: 0.394\n",
      "Recall: 1.000\n",
      "F1: 0.565\n",
      "accuracy_score: 0.394\n",
      "----------Iter 10 ----------\n",
      "Precision: 0.881\n",
      "Recall: 0.995\n",
      "F1: 0.934\n",
      "accuracy_score: 0.945\n",
      "----------Iter 20 ----------\n",
      "Precision: 0.917\n",
      "Recall: 0.989\n",
      "F1: 0.952\n",
      "accuracy_score: 0.961\n",
      "----------Iter 30 ----------\n",
      "Precision: 0.939\n",
      "Recall: 0.980\n",
      "F1: 0.959\n",
      "accuracy_score: 0.967\n",
      "----------Iter 40 ----------\n",
      "Precision: 0.952\n",
      "Recall: 0.974\n",
      "F1: 0.963\n",
      "accuracy_score: 0.970\n",
      "----------Iter 50 ----------\n",
      "Precision: 0.958\n",
      "Recall: 0.964\n",
      "F1: 0.961\n",
      "accuracy_score: 0.969\n",
      "----------Iter 60 ----------\n",
      "Precision: 0.967\n",
      "Recall: 0.949\n",
      "F1: 0.958\n",
      "accuracy_score: 0.967\n",
      "----------Iter 70 ----------\n",
      "Precision: 0.974\n",
      "Recall: 0.935\n",
      "F1: 0.954\n",
      "accuracy_score: 0.965\n",
      "----------Iter 80 ----------\n",
      "Precision: 0.980\n",
      "Recall: 0.917\n",
      "F1: 0.948\n",
      "accuracy_score: 0.960\n",
      "----------Iter 90 ----------\n",
      "Precision: 0.990\n",
      "Recall: 0.864\n",
      "F1: 0.923\n",
      "accuracy_score: 0.943\n",
      "----------Iter 100 ----------\n",
      "Precision: 1.000\n",
      "Recall: 0.009\n",
      "F1: 0.019\n",
      "accuracy_score: 0.610\n"
     ]
    }
   ],
   "source": [
    "from sklearn.metrics import precision_score, recall_score, f1_score, accuracy_score\n",
    "for i in range(0, 110, 10):\n",
    "    y_pred = []\n",
    "    for j,example in enumerate(ds):\n",
    "        if probas[j] >= i:\n",
    "            y_pred.append(1)\n",
    "        else:\n",
    "            y_pred.append(0)\n",
    "    print(\"----------Iter\", i,'----------')\n",
    "    print('Precision: %.3f' % precision_score(y_true=y, y_pred=y_pred))\n",
    "    print('Recall: %.3f' % recall_score(y_true=y, y_pred=y_pred))\n",
    "    print('F1: %.3f' % f1_score(y_true=y, y_pred=y_pred))\n",
    "    print('accuracy_score: %.3f' % accuracy_score(y_true=y, y_pred=y_pred))\n"
   ]
  },
  {
   "cell_type": "code",
   "execution_count": 64,
   "metadata": {},
   "outputs": [],
   "source": [
    "model.save('model_last.h5')\n"
   ]
  }
 ],
 "metadata": {
  "kernelspec": {
   "display_name": "Python 3.8.8 ('base')",
   "language": "python",
   "name": "python3"
  },
  "language_info": {
   "codemirror_mode": {
    "name": "ipython",
    "version": 3
   },
   "file_extension": ".py",
   "mimetype": "text/x-python",
   "name": "python",
   "nbconvert_exporter": "python",
   "pygments_lexer": "ipython3",
   "version": "3.8.8"
  },
  "orig_nbformat": 4,
  "vscode": {
   "interpreter": {
    "hash": "07f346ca2ec33ab218d39bbb959bc4c656ffa155dfb5e9f856f2cf5c91d54524"
   }
  }
 },
 "nbformat": 4,
 "nbformat_minor": 2
}
